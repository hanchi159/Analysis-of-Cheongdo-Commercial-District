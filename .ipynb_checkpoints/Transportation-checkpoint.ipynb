{
 "cells": [
  {
   "cell_type": "code",
   "execution_count": 1,
   "id": "519f1ab7",
   "metadata": {},
   "outputs": [],
   "source": [
    "import pandas as pd"
   ]
  },
  {
   "cell_type": "code",
   "execution_count": 7,
   "id": "094465a4",
   "metadata": {},
   "outputs": [],
   "source": [
    "data = pd.read_csv(\"TB_COUNT_GFF_20220211.csv\", encoding='utf-8')"
   ]
  },
  {
   "cell_type": "code",
   "execution_count": 9,
   "id": "14cce879",
   "metadata": {},
   "outputs": [
    {
     "data": {
      "text/html": [
       "<div>\n",
       "<style scoped>\n",
       "    .dataframe tbody tr th:only-of-type {\n",
       "        vertical-align: middle;\n",
       "    }\n",
       "\n",
       "    .dataframe tbody tr th {\n",
       "        vertical-align: top;\n",
       "    }\n",
       "\n",
       "    .dataframe thead th {\n",
       "        text-align: right;\n",
       "    }\n",
       "</style>\n",
       "<table border=\"1\" class=\"dataframe\">\n",
       "  <thead>\n",
       "    <tr style=\"text-align: right;\">\n",
       "      <th></th>\n",
       "      <th>STATN_NO</th>\n",
       "      <th>STATN_NM</th>\n",
       "      <th>HO_LN</th>\n",
       "      <th>NMPR_CNT</th>\n",
       "    </tr>\n",
       "  </thead>\n",
       "  <tbody>\n",
       "    <tr>\n",
       "      <th>0</th>\n",
       "      <td>518</td>\n",
       "      <td>가산디지털단지</td>\n",
       "      <td>7호선</td>\n",
       "      <td>359552</td>\n",
       "    </tr>\n",
       "    <tr>\n",
       "      <th>1</th>\n",
       "      <td>31</td>\n",
       "      <td>역삼</td>\n",
       "      <td>2호선</td>\n",
       "      <td>312418</td>\n",
       "    </tr>\n",
       "    <tr>\n",
       "      <th>2</th>\n",
       "      <td>29</td>\n",
       "      <td>삼성(무역센터)</td>\n",
       "      <td>2호선</td>\n",
       "      <td>293268</td>\n",
       "    </tr>\n",
       "    <tr>\n",
       "      <th>3</th>\n",
       "      <td>32</td>\n",
       "      <td>강남</td>\n",
       "      <td>2호선</td>\n",
       "      <td>286820</td>\n",
       "    </tr>\n",
       "    <tr>\n",
       "      <th>4</th>\n",
       "      <td>12</td>\n",
       "      <td>을지로입구</td>\n",
       "      <td>2호선</td>\n",
       "      <td>270348</td>\n",
       "    </tr>\n",
       "    <tr>\n",
       "      <th>5</th>\n",
       "      <td>30</td>\n",
       "      <td>선릉</td>\n",
       "      <td>2호선</td>\n",
       "      <td>252969</td>\n",
       "    </tr>\n",
       "    <tr>\n",
       "      <th>6</th>\n",
       "      <td>21</td>\n",
       "      <td>성수</td>\n",
       "      <td>2호선</td>\n",
       "      <td>251746</td>\n",
       "    </tr>\n",
       "    <tr>\n",
       "      <th>7</th>\n",
       "      <td>42</td>\n",
       "      <td>구로디지털단지</td>\n",
       "      <td>2호선</td>\n",
       "      <td>232448</td>\n",
       "    </tr>\n",
       "    <tr>\n",
       "      <th>8</th>\n",
       "      <td>409</td>\n",
       "      <td>광화문(세종문화회관)</td>\n",
       "      <td>5호선</td>\n",
       "      <td>225016</td>\n",
       "    </tr>\n",
       "    <tr>\n",
       "      <th>9</th>\n",
       "      <td>84</td>\n",
       "      <td>양재(서초구청)</td>\n",
       "      <td>3호선</td>\n",
       "      <td>217584</td>\n",
       "    </tr>\n",
       "  </tbody>\n",
       "</table>\n",
       "</div>"
      ],
      "text/plain": [
       "   STATN_NO     STATN_NM HO_LN  NMPR_CNT\n",
       "0       518      가산디지털단지   7호선    359552\n",
       "1        31           역삼   2호선    312418\n",
       "2        29     삼성(무역센터)   2호선    293268\n",
       "3        32           강남   2호선    286820\n",
       "4        12        을지로입구   2호선    270348\n",
       "5        30           선릉   2호선    252969\n",
       "6        21           성수   2호선    251746\n",
       "7        42      구로디지털단지   2호선    232448\n",
       "8       409  광화문(세종문화회관)   5호선    225016\n",
       "9        84     양재(서초구청)   3호선    217584"
      ]
     },
     "execution_count": 9,
     "metadata": {},
     "output_type": "execute_result"
    }
   ],
   "source": [
    "data"
   ]
  },
  {
   "cell_type": "code",
   "execution_count": 12,
   "id": "f51d73f9",
   "metadata": {},
   "outputs": [],
   "source": [
    "import seaborn as sns\n",
    "import matplotlib.pyplot as plt\n",
    "import platform\n",
    "\n",
    "from matplotlib import font_manager, rc\n",
    "%matplotlib inline"
   ]
  },
  {
   "cell_type": "code",
   "execution_count": 16,
   "id": "b79bc072",
   "metadata": {},
   "outputs": [],
   "source": [
    "path = \"c:/Windows/Fonts/malgun.ttf\"\n",
    "if platform.system() == 'Darwin':\n",
    "    font_name = 'Apple SD Gothic Neo'\n",
    "    rc('font', family='Apple SD Gothic Neo')\n",
    "elif platform.system() == 'Windows':\n",
    "    font_name = font_manager.FontProperties(fname=path).get_name()\n",
    "    rc('font', family=font_name)\n",
    "else:\n",
    "    font_name = font_manager.FontProperties(fname=\"/usr/share/fonts/nanumfont/NanumGothic.ttf\")\n",
    "    rc('font', family=\"NanumGothic\")"
   ]
  },
  {
   "cell_type": "code",
   "execution_count": 22,
   "id": "0fdcaffa",
   "metadata": {},
   "outputs": [
    {
     "data": {
      "text/plain": [
       "['선릉',\n",
       " '양재(서초구청)',\n",
       " '가산디지털단지',\n",
       " '삼성(무역센터)',\n",
       " '성수',\n",
       " '구로디지털단지',\n",
       " '광화문(세종문화회관)',\n",
       " '을지로입구',\n",
       " '역삼',\n",
       " '강남']"
      ]
     },
     "execution_count": 22,
     "metadata": {},
     "output_type": "execute_result"
    }
   ],
   "source": [
    "stops = []\n",
    "for i in set(data[\"STATN_NM\"]):\n",
    "    stops.append(i)\n",
    "stops"
   ]
  },
  {
   "cell_type": "code",
   "execution_count": 21,
   "id": "2932434e",
   "metadata": {},
   "outputs": [
    {
     "data": {
      "text/plain": [
       "[359552,\n",
       " 232448,\n",
       " 312418,\n",
       " 251746,\n",
       " 286820,\n",
       " 252969,\n",
       " 270348,\n",
       " 217584,\n",
       " 293268,\n",
       " 225016]"
      ]
     },
     "execution_count": 21,
     "metadata": {},
     "output_type": "execute_result"
    }
   ],
   "source": [
    "counts = []\n",
    "for i in set(data[\"NMPR_CNT\"]):\n",
    "    counts.append(i)\n",
    "counts"
   ]
  },
  {
   "cell_type": "code",
   "execution_count": 44,
   "id": "57ceac43",
   "metadata": {},
   "outputs": [
    {
     "data": {
      "text/plain": [
       "[359552,\n",
       " 312418,\n",
       " 293268,\n",
       " 286820,\n",
       " 270348,\n",
       " 252969,\n",
       " 251746,\n",
       " 232448,\n",
       " 225016,\n",
       " 217584]"
      ]
     },
     "execution_count": 44,
     "metadata": {},
     "output_type": "execute_result"
    }
   ],
   "source": [
    "subways = {}\n",
    "sorted_stops = []\n",
    "sorted_counts = []\n",
    "for i in range(len(stops)):\n",
    "    subways[stops[i]] = counts[i]\n",
    "subways\n",
    "sorted_subways = sorted(subways.items(), key = lambda item: item[1], reverse = True)\n",
    "\n",
    "for i in sorted_subways:\n",
    "    sorted_stops.append(i[0])\n",
    "    sorted_counts.append(i[1])\n",
    "sorted_stops\n",
    "sorted_counts"
   ]
  },
  {
   "cell_type": "code",
   "execution_count": 47,
   "id": "22168f4f",
   "metadata": {
    "scrolled": false
   },
   "outputs": [
    {
     "data": {
      "image/png": "[encoded data removed]",
      "text/plain": [
       "<Figure size 864x864 with 1 Axes>"
      ]
     },
     "metadata": {
      "needs_background": "light"
     },
     "output_type": "display_data"
    }
   ],
   "source": [
    "plt.figure(figsize=(12,12))\n",
    "plt.title(\"출근시간 하차인원수 순위 (08-09)\", fontdict={\"fontsize\" : 20})\n",
    "sns.barplot(y=sorted_stops,x=sorted_counts)\n",
    "plt.savefig(\"출근시간_하차인원_순위.png\")\n",
    "plt.show()"
   ]
  },
  {
   "cell_type": "code",
   "execution_count": null,
   "id": "12c11588",
   "metadata": {},
   "outputs": [],
   "source": []
  }
 ],
 "metadata": {
  "kernelspec": {
   "display_name": "Python 3 (ipykernel)",
   "language": "python",
   "name": "python3"
  },
  "language_info": {
   "codemirror_mode": {
    "name": "ipython",
    "version": 3
   },
   "file_extension": ".py",
   "mimetype": "text/x-python",
   "name": "python",
   "nbconvert_exporter": "python",
   "pygments_lexer": "ipython3",
   "version": "3.8.12"
  }
 },
 "nbformat": 4,
 "nbformat_minor": 5
}
